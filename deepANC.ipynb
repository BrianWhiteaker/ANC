{
 "cells": [
  {
   "cell_type": "code",
   "execution_count": 1,
   "id": "df56e0cf",
   "metadata": {},
   "outputs": [
    {
     "name": "stdout",
     "output_type": "stream",
     "text": [
      "1.9.0\n",
      "Python  sys.version_info(major=3, minor=8, micro=11, releaselevel='final', serial=0)\n"
     ]
    }
   ],
   "source": [
    "import numpy as np\n",
    "import matplotlib.pyplot as plt\n",
    "\n",
    "import torch\n",
    "import torch.nn as nn\n",
    "torch.set_default_dtype(torch.float32)\n",
    "\n",
    "import sys\n",
    "from jupyterthemes import jtplot\n",
    "\n",
    "jtplot.style()\n",
    "print(torch.__version__)\n",
    "print('Python ',sys.version_info)\n",
    "\n",
    "import pdb"
   ]
  },
  {
   "cell_type": "code",
   "execution_count": 2,
   "id": "e62e6b4e",
   "metadata": {},
   "outputs": [],
   "source": [
    "T = 1250\n",
    "Dlstms = 2\n",
    "testSpec = torch.randn((1,1,T,161),dtype=torch.complex64)\n",
    "testReIm = torch.zeros(1,2,T,161)\n",
    "testReIm[0,0,:,:] = testSpec.real\n",
    "testReIm[0,1,:,:] = testSpec.imag"
   ]
  },
  {
   "cell_type": "code",
   "execution_count": 3,
   "id": "39390c18",
   "metadata": {},
   "outputs": [],
   "source": [
    "class Encoder(nn.Module):\n",
    "    def __init__(self):\n",
    "        super(Encoder,self).__init__()\n",
    "        \n",
    "        self.enc1 = nn.Sequential(\n",
    "            nn.Conv2d(in_channels=2, out_channels=16, kernel_size=(1,3), stride=(1,2)),\n",
    "            nn.BatchNorm2d(16,track_running_stats=True),\n",
    "            nn.ELU()\n",
    "        )\n",
    "\n",
    "        self.enc2 = nn.Sequential(\n",
    "            nn.Conv2d(in_channels=16, out_channels=32, kernel_size=(1,3), stride=(1,2)),\n",
    "            nn.BatchNorm2d(32,track_running_stats=True),\n",
    "            nn.ELU()\n",
    "        )\n",
    "\n",
    "        self.enc3 = nn.Sequential(\n",
    "            nn.Conv2d(in_channels=32, out_channels=64, kernel_size=(1,3), stride=(1,2)),\n",
    "            nn.BatchNorm2d(64,track_running_stats=True),\n",
    "            nn.ELU()\n",
    "        )\n",
    "\n",
    "        self.enc4 = nn.Sequential(\n",
    "            nn.Conv2d(in_channels=64, out_channels=128, kernel_size=(1,3), stride=(1,2)),\n",
    "            nn.BatchNorm2d(128,track_running_stats=True),\n",
    "            nn.ELU()\n",
    "        )\n",
    "\n",
    "        self.enc5 = nn.Sequential(\n",
    "            nn.Conv2d(in_channels=128, out_channels=256, kernel_size=(1,3), stride=(1,2)),\n",
    "            nn.BatchNorm2d(256,track_running_stats=True),\n",
    "            nn.ELU()\n",
    "        )\n",
    "    def forward(self, input):\n",
    "        e1 = self.enc1(input)\n",
    "        e2 = self.enc2(e1)\n",
    "        e3 = self.enc3(e2)\n",
    "        e4 = self.enc4(e3)\n",
    "        e5 = self.enc5(e4)\n",
    "        return e5, [e1,e2,e3,e4,e5]\n",
    "        \n",
    "encoder = Encoder()"
   ]
  },
  {
   "cell_type": "code",
   "execution_count": 7,
   "id": "afd20167",
   "metadata": {},
   "outputs": [],
   "source": [
    "class Decoder(nn.Module):\n",
    "    def __init__(self):\n",
    "        super(Decoder,self).__init__()\n",
    "# (1,256,1250,4)\n",
    "        self.dec5 = nn.Sequential(\n",
    "            nn.ConvTranspose2d(in_channels=512, out_channels=128, kernel_size=(1,3), stride=(1,2)),\n",
    "            nn.BatchNorm2d(128,track_running_stats=True),\n",
    "            nn.ELU()\n",
    "        )\n",
    "\n",
    "        self.dec4 = nn.Sequential(\n",
    "            nn.ConvTranspose2d(in_channels=256, out_channels=64, kernel_size=(1,3), stride=(1,2)),\n",
    "            nn.BatchNorm2d(64,track_running_stats=True),\n",
    "            nn.ELU()\n",
    "        )\n",
    "\n",
    "        self.dec3 = nn.Sequential(\n",
    "            nn.ConvTranspose2d(in_channels=128, out_channels=32, kernel_size=(1,3), stride=(1,2)),\n",
    "            nn.BatchNorm2d(32,track_running_stats=True),\n",
    "            nn.ELU()\n",
    "        )\n",
    "\n",
    "        self.dec2 = nn.Sequential(\n",
    "            nn.ConvTranspose2d(in_channels=64, out_channels=16,\n",
    "                               kernel_size=(1,3), stride=(1,2), output_padding=(0,1)),\n",
    "            nn.BatchNorm2d(16,track_running_stats=True),\n",
    "            nn.ELU()\n",
    "        )\n",
    "\n",
    "        self.dec1 = nn.Sequential(\n",
    "            nn.ConvTranspose2d(in_channels=32, out_channels=1, kernel_size=(1,3),\n",
    "                               stride=(1,2))    \n",
    "        )\n",
    "    def forward(self, input, enc_list):\n",
    "        #pdb.set_trace()\n",
    "        d5 = self.dec5(torch.cat([input,enc_list[-1]], dim=1))\n",
    "        d4 = self.dec4(torch.cat([d5,enc_list[-2]], dim=1))\n",
    "        d3 = self.dec3(torch.cat([d4,enc_list[-3]], dim=1))\n",
    "        d2 = self.dec2(torch.cat([d3,enc_list[-4]], dim=1))\n",
    "        d1 = self.dec1(torch.cat([d2,enc_list[-5]], dim=1))\n",
    "        return d1\n",
    "    \n",
    "dec_Re = Decoder()\n",
    "dec_Im = Decoder()      "
   ]
  },
  {
   "cell_type": "code",
   "execution_count": 8,
   "id": "699ddcbd",
   "metadata": {},
   "outputs": [],
   "source": [
    "class Recurrent(nn.Module):\n",
    "    def __init__(self):\n",
    "        super(Recurrent,self).__init__()\n",
    "        self.lstms = nn.LSTM(input_size=1024,hidden_size=1024,\n",
    "                             num_layers=Dlstms,batch_first=True)\n",
    "    def forward(self,x,state_in):\n",
    "        output, state_out = self.lstms(x,state_in)\n",
    "        return output, state_out   \n",
    "recurrent = Recurrent()\n",
    "\n",
    "def init_state():\n",
    "    hn = torch.randn(Dlstms,1,1024)\n",
    "    cn = torch.randn(Dlstms,1,1024)\n",
    "    return (hn,cn)"
   ]
  },
  {
   "cell_type": "code",
   "execution_count": 15,
   "id": "f613ddf5",
   "metadata": {},
   "outputs": [],
   "source": [
    "state0 = init_state()\n",
    "e_vec, e_list = encoder(testReIm)\n",
    "# Resize for RNN\n",
    "center  = e_vec.view(1,T,1024)\n",
    "rnn_out, state = recurrent(center, state0)\n",
    "# Resize for Conv\n",
    "out_rnn = rnn_out.view(1,256,T,4)\n",
    "yhat = torch.cat([dec_Re(out_rnn, e_list), dec_Im(out_rnn, e_list)], dim=1)"
   ]
  },
  {
   "cell_type": "code",
   "execution_count": 16,
   "id": "47f60015",
   "metadata": {},
   "outputs": [
    {
     "data": {
      "text/plain": [
       "torch.Size([1, 2, 1250, 161])"
      ]
     },
     "execution_count": 16,
     "metadata": {},
     "output_type": "execute_result"
    }
   ],
   "source": [
    "yhat.size()\n",
    "\n",
    "\n",
    "\n"
   ]
  },
  {
   "cell_type": "code",
   "execution_count": null,
   "id": "33d4ea5c",
   "metadata": {},
   "outputs": [],
   "source": []
  }
 ],
 "metadata": {
  "kernelspec": {
   "display_name": "Python 3 (ipykernel)",
   "language": "python",
   "name": "python3"
  },
  "language_info": {
   "codemirror_mode": {
    "name": "ipython",
    "version": 3
   },
   "file_extension": ".py",
   "mimetype": "text/x-python",
   "name": "python",
   "nbconvert_exporter": "python",
   "pygments_lexer": "ipython3",
   "version": "3.8.11"
  }
 },
 "nbformat": 4,
 "nbformat_minor": 5
}
